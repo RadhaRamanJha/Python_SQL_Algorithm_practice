{
  "nbformat": 4,
  "nbformat_minor": 0,
  "metadata": {
    "colab": {
      "provenance": []
    },
    "kernelspec": {
      "name": "python3",
      "display_name": "Python 3"
    },
    "language_info": {
      "name": "python"
    }
  },
  "cells": [
    {
      "cell_type": "markdown",
      "source": [
        "**Array** :- A collection of items of the same variable type that are stored at contiguous memory locations.\n",
        "\n",
        "it is a linear data structure that stores a collection of items of same data type in contiguous memory locations.\n",
        "\n",
        "Basic terminologies of Array:\n",
        "\n",
        "- **Array Index**: In an array, elements are identified by their indexes. Array index starts from 0.\n",
        "- **Array element**: Elements are items stored in an array and can be accessed by their index.\n",
        "- **Array Length**: The length of an array is determined by the number of elements it can contain."
      ],
      "metadata": {
        "id": "e7y6YPCyLO9s"
      }
    },
    {
      "cell_type": "markdown",
      "source": [
        "## Declaration of an Array"
      ],
      "metadata": {
        "id": "VZOC9nTeMbQT"
      }
    },
    {
      "cell_type": "code",
      "source": [
        "import array\n",
        "# This array will store integer type element\n",
        "arr = array.array('i')\n",
        "# This array will store char type element\n",
        "arr = array.array('b')\n",
        "# This array will store float type element\n",
        "arr = array.array('f')"
      ],
      "metadata": {
        "id": "ZVoRBIWkMST7"
      },
      "execution_count": null,
      "outputs": []
    },
    {
      "cell_type": "markdown",
      "source": [
        "## Initialzation of an array"
      ],
      "metadata": {
        "id": "T8JgLmQaMmS9"
      }
    },
    {
      "cell_type": "code",
      "source": [
        "arr1 = array.array('i',[1,2,3,4,5])                      # This array will store integer type element\n",
        "arr2 = array.array('u',['a','b','c','d','f'])            # This array will store character type element\n",
        "arr3 = array.array('f',[1.1,1.2,1.3,1.4])                # This array will store float type element"
      ],
      "metadata": {
        "id": "MIpUugkDMuc3"
      },
      "execution_count": null,
      "outputs": []
    },
    {
      "cell_type": "markdown",
      "source": [
        "##  The idea of an array is to represent many instances in one variable.\n",
        "\n",
        "\n",
        "## Types of array\n",
        "\n",
        "### 1. Based on memory allocation\n",
        "\n",
        "#### a. Static array"
      ],
      "metadata": {
        "id": "SHubXE0fOXa3"
      }
    },
    {
      "cell_type": "code",
      "source": [
        "# Static Array\n",
        "arr4 = array.array('i', [1, 2, 3, 4, 5])"
      ],
      "metadata": {
        "id": "y2-a7Pp0OaFO"
      },
      "execution_count": null,
      "outputs": []
    },
    {
      "cell_type": "markdown",
      "source": [
        "#### b. Dynamic Arrays:"
      ],
      "metadata": {
        "id": "7twNEEguSaUi"
      }
    },
    {
      "cell_type": "code",
      "source": [
        "# Dynamic Array\n",
        "arr5 = []"
      ],
      "metadata": {
        "id": "B0-0ZbNFSeOy"
      },
      "execution_count": null,
      "outputs": []
    },
    {
      "cell_type": "markdown",
      "source": [
        "2. Types of Arrays on the basis of Dimensions:\n",
        "- One-dimensional Array(1-D Array)\n",
        "- Multi-dimensional Array\n",
        "\n",
        "## Operations on Array\n",
        "\n",
        "1. Array Traversal:\n",
        "Array traversal involves visiting all elements once"
      ],
      "metadata": {
        "id": "eOToH-AuSjnJ"
      }
    },
    {
      "cell_type": "code",
      "source": [
        "arr = array.array('i', [1, 2, 3, 4, 5])\n",
        "# Traversing over arr[]\n",
        "for x in arr:\n",
        "    print(x, end=\" \")"
      ],
      "metadata": {
        "colab": {
          "base_uri": "https://localhost:8080/"
        },
        "id": "RDO6PyVAU0XI",
        "outputId": "ec268b16-7b39-4235-ae0b-008566e5348f"
      },
      "execution_count": null,
      "outputs": [
        {
          "output_type": "stream",
          "name": "stdout",
          "text": [
            "1 2 3 4 5 "
          ]
        }
      ]
    },
    {
      "cell_type": "markdown",
      "source": [
        "2. Insertion in Array:\n",
        "We can insert one or multiple elements at any position in the array."
      ],
      "metadata": {
        "id": "b4gws5guVUj3"
      }
    },
    {
      "cell_type": "code",
      "source": [
        "# python Program to Insert an element\n",
        "# at a specific position in an Array\n",
        "\n",
        "\n",
        "def insertElement(arr, n, x, pos):\n",
        "\n",
        "    # shift elements to the right\n",
        "    # which are on the right side of pos\n",
        "    for i in range(n-1, pos-1, -1):\n",
        "        arr[i + 1] = arr[i]\n",
        "\n",
        "    arr[pos] = x"
      ],
      "metadata": {
        "id": "vZUVaY2rVWsI"
      },
      "execution_count": null,
      "outputs": []
    },
    {
      "cell_type": "markdown",
      "source": [
        "3. Deletion in Array:\n",
        "We can delete an element at any index in an array"
      ],
      "metadata": {
        "id": "78lIHh2qWp-x"
      }
    },
    {
      "cell_type": "code",
      "source": [
        "from array import array\n",
        "\n",
        "# Function to search for a key in the array\n",
        "def findElement(arr:array, n:int, key:int) ->int:\n",
        "    for i in range(n):\n",
        "          # Return the index if key is found\n",
        "        if arr[i] == key:\n",
        "            return i\n",
        "    # Return -1 if key is not found\n",
        "    return -1\n",
        "\n",
        "# Function to delete an element from the array\n",
        "def deleteElement(arr, n, key):\n",
        "    # Find position of element to be deleted\n",
        "    pos = findElement(arr, n, key)\n",
        "\n",
        "    if pos == -1:\n",
        "        print(\"Element not found\")\n",
        "        return n\n",
        "\n",
        "    # Deleting element\n",
        "    for i in range(pos, n - 1):\n",
        "        arr[i] = arr[i + 1]\n",
        "\n",
        "    return n - 1"
      ],
      "metadata": {
        "id": "tw8qvIcbZfhw"
      },
      "execution_count": null,
      "outputs": []
    },
    {
      "cell_type": "markdown",
      "source": [
        "## Array problems ▶\n",
        "problem source ▶ https://www.geeksforgeeks.org/find-the-largest-three-elements-in-an-array/?ref=lbp\n",
        "\n",
        "1. Find the largest three distinct elements in an array\n",
        "\n",
        "Expected Time Complexity: O(n)\n",
        "Expected Auxiliary Space: O(1).\n",
        "\n",
        "Examples :\n",
        "\n",
        "Input: arr[] = {10, 4, 3, 50, 23, 90}\n",
        "Output: 90, 50, 23\n",
        "\n",
        "Input: arr[] = { 6, 8, 1, 9, 2, 1, 10, 10}\n",
        "Output: 10, 10, 9"
      ],
      "metadata": {
        "id": "xbilt6TfesiS"
      }
    },
    {
      "cell_type": "code",
      "source": [
        "def largest_3(arr):\n",
        "  n = len(arr)\n",
        "  first,second,third = arr[0],arr[0],arr[0]\n",
        "  for i in range(n):\n",
        "    if arr[i] > first:\n",
        "      third = second\n",
        "      second = first\n",
        "      first = arr[i]\n",
        "    elif arr[i] > second:\n",
        "      third = second\n",
        "      second = arr[i]\n",
        "    elif arr[i] > third:\n",
        "      third = arr[i]\n",
        "  return (first,second,third)"
      ],
      "metadata": {
        "id": "KIckT6ApfEuc"
      },
      "execution_count": null,
      "outputs": []
    },
    {
      "cell_type": "code",
      "source": [
        "largest_3([10, 4, 3, 50, 23, 90])"
      ],
      "metadata": {
        "colab": {
          "base_uri": "https://localhost:8080/"
        },
        "id": "nisy-xpYh1_Z",
        "outputId": "2072c643-f574-4f0a-ee70-519c95e5a662"
      },
      "execution_count": null,
      "outputs": [
        {
          "output_type": "execute_result",
          "data": {
            "text/plain": [
              "(90, 50, 23)"
            ]
          },
          "metadata": {},
          "execution_count": 22
        }
      ]
    },
    {
      "cell_type": "code",
      "source": [
        "largest_3([6, 8, 1, 9, 2, 1, 10, 10])"
      ],
      "metadata": {
        "colab": {
          "base_uri": "https://localhost:8080/"
        },
        "id": "69oLGccCqsGJ",
        "outputId": "7f18c9a2-7e68-4194-c1ac-e4a6241cfe01"
      },
      "execution_count": null,
      "outputs": [
        {
          "output_type": "execute_result",
          "data": {
            "text/plain": [
              "(10, 10, 9)"
            ]
          },
          "metadata": {},
          "execution_count": 23
        }
      ]
    },
    {
      "cell_type": "markdown",
      "source": [
        "problem source ▶ https://www.geeksforgeeks.org/find-second-largest-element-array/?ref=lbp\n",
        "\n",
        "## 2.  Find Second largest element in an array\n",
        "\n",
        "### Time Complexity: O(n), where n is the size of input array.\n",
        "### Auxiliary space: O(1), as no extra space is required.\n",
        "\n",
        "Examples:\n",
        "\n",
        "Input: arr[] = {12, 35, 1, 10, 34, 1}\n",
        "Output: The second largest element is 34.\n",
        "\n",
        "Input: arr[] = {10, 5, 10}\n",
        "Output: The second largest element is 5.\n",
        "\n",
        "Input: arr[] = {10, 10, 10}\n",
        "Output: The second largest does not exist."
      ],
      "metadata": {
        "id": "TAXLgivukMXC"
      }
    },
    {
      "cell_type": "code",
      "source": [
        "def second_largest(arr):\n",
        "  n = len(arr)\n",
        "  sec_larg = float('-inf')\n",
        "  larg = float('-inf')\n",
        "  for i in range(n):\n",
        "    if arr[i] > larg:\n",
        "      sec_larg = larg\n",
        "      larg = arr[i]\n",
        "    elif (arr[i] > sec_larg) and (arr[i] != larg):\n",
        "      sec_larg = arr[i]\n",
        "  if sec_larg == float('-inf'):\n",
        "    return \"The second largest does not exist.\"\n",
        "  else:\n",
        "    return f\"The second largest element is {sec_larg}.\""
      ],
      "metadata": {
        "id": "tLJksDrOk04r"
      },
      "execution_count": null,
      "outputs": []
    },
    {
      "cell_type": "code",
      "source": [
        "second_largest([12, 35, 1, 10, 34, 1])"
      ],
      "metadata": {
        "colab": {
          "base_uri": "https://localhost:8080/",
          "height": 35
        },
        "id": "Fjdqy66frCqv",
        "outputId": "b20b6d9e-f8a6-4686-966a-5af9fb7032b4"
      },
      "execution_count": null,
      "outputs": [
        {
          "output_type": "execute_result",
          "data": {
            "text/plain": [
              "'The second largest element is 34.'"
            ],
            "application/vnd.google.colaboratory.intrinsic+json": {
              "type": "string"
            }
          },
          "metadata": {},
          "execution_count": 31
        }
      ]
    },
    {
      "cell_type": "code",
      "source": [
        "second_largest([10, 5, 10])"
      ],
      "metadata": {
        "colab": {
          "base_uri": "https://localhost:8080/",
          "height": 35
        },
        "id": "vURFruChrMKQ",
        "outputId": "035d762a-b691-4009-e68c-8c5b0e5bafd4"
      },
      "execution_count": null,
      "outputs": [
        {
          "output_type": "execute_result",
          "data": {
            "text/plain": [
              "'The second largest element is 5.'"
            ],
            "application/vnd.google.colaboratory.intrinsic+json": {
              "type": "string"
            }
          },
          "metadata": {},
          "execution_count": 32
        }
      ]
    },
    {
      "cell_type": "code",
      "source": [
        "second_largest([10, 10, 10])"
      ],
      "metadata": {
        "colab": {
          "base_uri": "https://localhost:8080/",
          "height": 35
        },
        "id": "boc4Hv1ir2oU",
        "outputId": "9c672457-b901-43fb-fc20-89519b313e59"
      },
      "execution_count": null,
      "outputs": [
        {
          "output_type": "execute_result",
          "data": {
            "text/plain": [
              "'The second largest does not exist.'"
            ],
            "application/vnd.google.colaboratory.intrinsic+json": {
              "type": "string"
            }
          },
          "metadata": {},
          "execution_count": 33
        }
      ]
    },
    {
      "cell_type": "markdown",
      "source": [
        "problem source ▶ https://www.geeksforgeeks.org/move-zeroes-end-array/?ref=lbp\n",
        "## 3. Given an array of random numbers, Push all the zero’s of a given array to the end of the array.\n",
        "\n",
        "Example:\n",
        "\n",
        "Input :  arr[] = {1, 2, 0, 4, 3, 0, 5, 0};\n",
        "Output : arr[] = {1, 2, 4, 3, 5, 0, 0, 0};\n",
        "\n",
        "Input : arr[]  = {1, 2, 0, 0, 0, 3, 6};\n",
        "Output : arr[] = {1, 2, 3, 6, 0, 0, 0};\n",
        "\n",
        "## a. Time complexity is O(n) and Space complexity is O(n).\n",
        "\n"
      ],
      "metadata": {
        "id": "KBGO6sTyuFqF"
      }
    },
    {
      "cell_type": "code",
      "source": [
        "def push_zero_end(arr):\n",
        "  return_array = [n for n in arr if n!=0]\n",
        "  while len(return_array) < len(arr):\n",
        "    return_array.append(0)\n",
        "  return return_array"
      ],
      "metadata": {
        "id": "3VK7G3MQuXAR"
      },
      "execution_count": 1,
      "outputs": []
    },
    {
      "cell_type": "code",
      "source": [
        "push_zero_end([1, 2, 0, 4, 3, 0, 5, 0])"
      ],
      "metadata": {
        "colab": {
          "base_uri": "https://localhost:8080/"
        },
        "id": "1cVHyRjRxWIU",
        "outputId": "6b65f543-3646-473a-d687-9d01fffc5546"
      },
      "execution_count": null,
      "outputs": [
        {
          "output_type": "execute_result",
          "data": {
            "text/plain": [
              "[1, 2, 4, 3, 5, 0, 0, 0]"
            ]
          },
          "metadata": {},
          "execution_count": 36
        }
      ]
    },
    {
      "cell_type": "code",
      "source": [
        "push_zero_end([1, 2, 0, 0, 0, 3, 6])"
      ],
      "metadata": {
        "colab": {
          "base_uri": "https://localhost:8080/"
        },
        "id": "JYwTbJnEyN13",
        "outputId": "9d4e1db4-614e-4109-de39-81a21f514376"
      },
      "execution_count": null,
      "outputs": [
        {
          "output_type": "execute_result",
          "data": {
            "text/plain": [
              "[1, 2, 3, 6, 0, 0, 0]"
            ]
          },
          "metadata": {},
          "execution_count": 37
        }
      ]
    }
  ]
}